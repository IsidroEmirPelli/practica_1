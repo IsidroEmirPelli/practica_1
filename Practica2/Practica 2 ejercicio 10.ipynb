{
 "cells": [
  {
   "cell_type": "markdown",
   "id": "c21f3bc5",
   "metadata": {},
   "source": [
    "# Creacion de variables con el contenido de los archivos."
   ]
  },
  {
   "cell_type": "code",
   "execution_count": 12,
   "id": "8184c6fb",
   "metadata": {},
   "outputs": [],
   "source": [
    "nombres=['Agustin','Alan','Andrés','Ariadna','Bautista','CAROLINA','CESAR','David','Diego','Dolores','DYLAN','ELIANA','Emanuel','Fabián','Facundo','Facundo','FEDERICO','FEDERICO','GONZALO','Gregorio','Ignacio','Jonathan','Jonathan','Jorge','JOSE','JUAN','Juan','Juan','Julian','Julieta','LAUTARO','Leonel','LUIS','Luis','Marcos','María','MATEO','Matias','Nicolás','NICOLÁS','Noelia','Pablo','Priscila','TOMAS','Tomás','Ulises','Yanina']"
   ]
  },
  {
   "cell_type": "code",
   "execution_count": 2,
   "id": "046a5c4d",
   "metadata": {},
   "outputs": [],
   "source": [
    "ev1 =[81, 60, 72, 24, 15, 91, 12, 70, 29, 42, 16, 3, 35, 67, 10, 57, 11, 69, 12,77, 13, 86, 48, 65, 51, 41, 87, 43, 10, 87, 91, 15,44, 85, 73, 37,42, 95, 18,7, 74, 60, 9, 65,93,63,74]"
   ]
  },
  {
   "cell_type": "code",
   "execution_count": 13,
   "id": "dc139acc",
   "metadata": {},
   "outputs": [],
   "source": [
    "ev2=[30, 95,28, 84, 84, 43, 66, 51, 4, 11, 58, 10, 13, 34, 96, 71, 86, 37, 64, 13, 8, 87, 14, 14, 49, 27, 55, 69, 77,59, 57, 40, 96, 24, 30, 73, 95, 19, 47, 15,31, 39, 15, 74, 33, 57, 10]"
   ]
  },
  {
   "cell_type": "markdown",
   "id": "249fc6f7",
   "metadata": {},
   "source": [
    "## Creando lista por comprension con las notas sumadas \n",
    "##### Utilizando zip para tomar los valores de las 2 listas"
   ]
  },
  {
   "cell_type": "code",
   "execution_count": 15,
   "id": "1ac919ee",
   "metadata": {},
   "outputs": [],
   "source": [
    "notas_sumadas = [x + y for x, y in zip(ev1, ev2)]"
   ]
  },
  {
   "cell_type": "markdown",
   "id": "dc54849e",
   "metadata": {},
   "source": [
    "### Uno la lista de los nombres y las notas sumadas para generar una tupla de pares de elemntos"
   ]
  },
  {
   "cell_type": "code",
   "execution_count": 16,
   "id": "b6458afe",
   "metadata": {},
   "outputs": [],
   "source": [
    "alumnos = zip(nombres,notas_sumadas)"
   ]
  },
  {
   "cell_type": "markdown",
   "id": "f5b52166",
   "metadata": {},
   "source": [
    "###### Calculo el promedio sumando todos los contenidos de las notas y lo divido por el tamaño de la lista"
   ]
  },
  {
   "cell_type": "code",
   "execution_count": 17,
   "id": "ee95a96a",
   "metadata": {},
   "outputs": [],
   "source": [
    "promedio = sum(notas_sumadas) / len(notas_sumadas)"
   ]
  },
  {
   "cell_type": "markdown",
   "id": "0c4272df",
   "metadata": {},
   "source": [
    "###### Creo una lista solo con los alumnos que se encuentren debajo del promedio mediante el uso de filter y una funcion lambda para darle el criterio de la creacion de la nueva lista"
   ]
  },
  {
   "cell_type": "code",
   "execution_count": 18,
   "id": "3f2f1db9",
   "metadata": {},
   "outputs": [],
   "source": [
    "alumnos_bajo_del_promedio = list(filter(lambda x: x[1] < promedio, alumnos))"
   ]
  },
  {
   "cell_type": "markdown",
   "id": "add38456",
   "metadata": {},
   "source": [
    "###### Imprimo el contenido de la lista dandole un formato para que sea mas legible"
   ]
  },
  {
   "cell_type": "code",
   "execution_count": 8,
   "id": "2d9c747e",
   "metadata": {},
   "outputs": [
    {
     "name": "stdout",
     "output_type": "stream",
     "text": [
      "Alumnos debajo del promedio\n",
      "CESAR, nota: 78.\n",
      "Diego, nota: 33.\n",
      "Dolores, nota: 53.\n",
      "DYLAN, nota: 74.\n",
      "ELIANA, nota: 13.\n",
      "Emanuel, nota: 48.\n",
      "GONZALO, nota: 76.\n",
      "Gregorio, nota: 90.\n",
      "Ignacio, nota: 21.\n",
      "Jonathan, nota: 62.\n",
      "Jorge, nota: 79.\n",
      "JUAN, nota: 68.\n",
      "Julian, nota: 87.\n",
      "Leonel, nota: 55.\n",
      "Nicolás, nota: 65.\n",
      "NICOLÁS, nota: 22.\n",
      "Priscila, nota: 24.\n",
      "Yanina, nota: 84.\n"
     ]
    }
   ],
   "source": [
    "print('Alumnos debajo del promedio')\n",
    "for i in alumnos_bajo_del_promedio:\n",
    "    print(f'{i[0]}, nota: {i[1]}.')"
   ]
  },
  {
   "cell_type": "markdown",
   "id": "259e4a99",
   "metadata": {},
   "source": [
    "## FIN"
   ]
  }
 ],
 "metadata": {
  "kernelspec": {
   "display_name": "Python 3 (ipykernel)",
   "language": "python",
   "name": "python3"
  },
  "language_info": {
   "codemirror_mode": {
    "name": "ipython",
    "version": 3
   },
   "file_extension": ".py",
   "mimetype": "text/x-python",
   "name": "python",
   "nbconvert_exporter": "python",
   "pygments_lexer": "ipython3",
   "version": "3.10.3"
  }
 },
 "nbformat": 4,
 "nbformat_minor": 5
}
