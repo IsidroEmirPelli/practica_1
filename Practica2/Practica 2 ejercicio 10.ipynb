{
 "cells": [
  {
   "cell_type": "markdown",
   "id": "c21f3bc5",
   "metadata": {},
   "source": [
    "# Creacion de variables con el contenido de los archivos."
   ]
  },
  {
   "cell_type": "code",
   "execution_count": 24,
   "id": "8184c6fb",
   "metadata": {
    "scrolled": true
   },
   "outputs": [],
   "source": [
    "with open(\"nombres.txt\", encoding=\"utf8\") as file:\n",
    "    nombres = [x.replace(\",\\n\", \"\").replace(\"'\", \"\") for x in file]"
   ]
  },
  {
   "cell_type": "code",
   "execution_count": 32,
   "id": "046a5c4d",
   "metadata": {},
   "outputs": [],
   "source": [
    "with open(\"eval1.txt\", encoding=\"utf8\") as file:\n",
    "    ev1 = [int(x.replace(\",\\n\", \"\").replace(\"'\", \"\")) for x in file]"
   ]
  },
  {
   "cell_type": "code",
   "execution_count": 34,
   "id": "dc139acc",
   "metadata": {},
   "outputs": [],
   "source": [
    "with open(\"eval2.txt\", encoding=\"utf8\") as file:\n",
    "    ev2 = [int(x.replace(\",\\n\", \"\").replace(\"'\", \"\")) for x in file]"
   ]
  },
  {
   "cell_type": "markdown",
   "id": "249fc6f7",
   "metadata": {},
   "source": [
    "## Creando lista por comprension con las notas sumadas \n",
    "##### Utilizando zip para tomar los valores de las 2 listas"
   ]
  },
  {
   "cell_type": "code",
   "execution_count": 35,
   "id": "1ac919ee",
   "metadata": {},
   "outputs": [],
   "source": [
    "notas_sumadas = [x + y for x, y in zip(ev1, ev2)]"
   ]
  },
  {
   "cell_type": "markdown",
   "id": "dc54849e",
   "metadata": {},
   "source": [
    "### Uno la lista de los nombres y las notas sumadas para generar una tupla de pares de elemntos"
   ]
  },
  {
   "cell_type": "code",
   "execution_count": 36,
   "id": "b6458afe",
   "metadata": {},
   "outputs": [],
   "source": [
    "alumnos = zip(nombres,notas_sumadas)"
   ]
  },
  {
   "cell_type": "markdown",
   "id": "f5b52166",
   "metadata": {},
   "source": [
    "###### Calculo el promedio sumando todos los contenidos de las notas y lo divido por el tamaño de la lista"
   ]
  },
  {
   "cell_type": "code",
   "execution_count": 37,
   "id": "ee95a96a",
   "metadata": {},
   "outputs": [],
   "source": [
    "promedio = sum(notas_sumadas) / len(notas_sumadas)"
   ]
  },
  {
   "cell_type": "markdown",
   "id": "0c4272df",
   "metadata": {},
   "source": [
    "###### Creo una lista solo con los alumnos que se encuentren debajo del promedio mediante el uso de filter y una funcion lambda para darle el criterio de la creacion de la nueva lista"
   ]
  },
  {
   "cell_type": "code",
   "execution_count": 38,
   "id": "3f2f1db9",
   "metadata": {},
   "outputs": [],
   "source": [
    "alumnos_bajo_del_promedio = list(filter(lambda x: x[1] < promedio, alumnos))"
   ]
  },
  {
   "cell_type": "markdown",
   "id": "add38456",
   "metadata": {},
   "source": [
    "###### Imprimo el contenido de la lista dandole un formato para que sea mas legible"
   ]
  },
  {
   "cell_type": "code",
   "execution_count": 39,
   "id": "2d9c747e",
   "metadata": {},
   "outputs": [
    {
     "name": "stdout",
     "output_type": "stream",
     "text": [
      "Alumnos debajo del promedio\n",
      "CESAR, nota: 78.\n",
      "Diego, nota: 33.\n",
      "Dolores, nota: 53.\n",
      "DYLAN, nota: 74.\n",
      "ELIANA, nota: 13.\n",
      "Emanuel, nota: 48.\n",
      "GONZALO, nota: 76.\n",
      "Gregorio, nota: 90.\n",
      "Ignacio, nota: 21.\n",
      "Jonathan, nota: 62.\n",
      "Jorge, nota: 79.\n",
      "JUAN, nota: 68.\n",
      "Julian, nota: 87.\n",
      "Leonel, nota: 55.\n",
      "Nicolás, nota: 65.\n",
      "NICOLÁS, nota: 22.\n",
      "Priscila, nota: 24.\n",
      "Yanina, nota: 84.\n"
     ]
    }
   ],
   "source": [
    "print('Alumnos debajo del promedio')\n",
    "for i in alumnos_bajo_del_promedio:\n",
    "    print(f'{i[0]}, nota: {i[1]}.')"
   ]
  },
  {
   "cell_type": "markdown",
   "id": "259e4a99",
   "metadata": {},
   "source": [
    "## FIN"
   ]
  }
 ],
 "metadata": {
  "kernelspec": {
   "display_name": "Python 3 (ipykernel)",
   "language": "python",
   "name": "python3"
  },
  "language_info": {
   "codemirror_mode": {
    "name": "ipython",
    "version": 3
   },
   "file_extension": ".py",
   "mimetype": "text/x-python",
   "name": "python",
   "nbconvert_exporter": "python",
   "pygments_lexer": "ipython3",
   "version": "3.10.4"
  }
 },
 "nbformat": 4,
 "nbformat_minor": 5
}
